{
 "cells": [
  {
   "cell_type": "code",
   "execution_count": null,
   "id": "93cc0cc2",
   "metadata": {
    "vscode": {
     "languageId": "plaintext"
    }
   },
   "outputs": [],
   "source": [
    "pip install pyspark"
   ]
  },
  {
   "cell_type": "code",
   "execution_count": null,
   "id": "90d5a5ac",
   "metadata": {
    "vscode": {
     "languageId": "plaintext"
    }
   },
   "outputs": [],
   "source": [
    "from pyspark.sql import SparkSession\n",
    "from pyspark.sql.functions import explode, col\n",
    "from pyspark.sql.window import Window\n",
    "from pyspark.sql.functions import row_number\n",
    "\n",
    "# 1. Khởi tạo Spark Session\n",
    "spark = SparkSession.builder \\\n",
    "    .appName(\"Spark NLP Clustering\") \\\n",
    "    .master(\"spark://172.18.0.3:7077\") \\\n",
    "    .config(\"spark.driver.memory\", \"8g\") \\\n",
    "    .config(\"spark.jars.packages\", \"com.johnsnowlabs.nlp:spark-nlp_2.12:4.4.0\") \\\n",
    "    .getOrCreate()\n",
    "\n",
    "# 2. Đọc file JSONL\n",
    "input_path = \"/opt/workspace/gen_1604_formated.jsonl\"\n",
    "df = spark.read.json(input_path, multiLine=False)\n",
    "\n",
    "# 3. Tách từng message\n",
    "df_exploded = df.select(explode(\"messages\").alias(\"msg\"))\n",
    "\n",
    "# 4. Lọc các câu có role là \"user\"\n",
    "user_msgs = df_exploded.filter(col(\"msg.role\") == \"user\") \\\n",
    "    .select(col(\"msg.content\").alias(\"user_content\"))\n",
    "\n",
    "# 5. Đếm số lần xuất hiện\n",
    "content_count = user_msgs.groupBy(\"user_content\") \\\n",
    "    .count() \\\n",
    "    .orderBy(col(\"count\").desc())\n",
    "\n",
    "# 6. Thêm cột số thứ tự (index)\n",
    "window_spec = Window.orderBy(col(\"count\").desc())\n",
    "content_with_index = content_count.withColumn(\"stt\", row_number().over(window_spec))\n",
    "\n",
    "# 7. Hiển thị đầy đủ nội dung và có số thứ tự\n",
    "content_with_index.select(\"stt\", \"user_content\", \"count\") \\\n",
    "    .show(n=1000, truncate=False)\n"
   ]
  }
 ],
 "metadata": {
  "language_info": {
   "name": "python"
  }
 },
 "nbformat": 4,
 "nbformat_minor": 5
}
