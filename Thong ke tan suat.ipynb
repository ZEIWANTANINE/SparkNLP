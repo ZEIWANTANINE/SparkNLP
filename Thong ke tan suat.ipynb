{
 "cells": [
  {
   "cell_type": "code",
   "execution_count": null,
   "metadata": {
    "vscode": {
     "languageId": "plaintext"
    }
   },
   "outputs": [],
   "source": [
    "!pip install pyspark spark-nlp matplotlib numpy tqdm transformers scikit-learn"
   ]
  },
  {
   "cell_type": "code",
   "execution_count": null,
   "metadata": {
    "vscode": {
     "languageId": "plaintext"
    }
   },
   "outputs": [],
   "source": [
    "import json\n",
    "import torch\n",
    "import numpy as np\n",
    "import matplotlib.pyplot as plt\n",
    "from tqdm import tqdm\n",
    "from transformers import AutoTokenizer, AutoModel\n",
    "from sklearn.cluster import KMeans\n",
    "from sklearn.metrics.pairwise import cosine_similarity\n",
    "from collections import Counter\n",
    "\n",
    "# 🔧 Load PhoBERT\n",
    "tokenizer = AutoTokenizer.from_pretrained(\"vinai/phobert-base\")\n",
    "model = AutoModel.from_pretrained(\"vinai/phobert-base\")\n",
    "model.eval()\n",
    "\n",
    "# 📂 Load dữ liệu\n",
    "with open(\"/opt/workspace/data.jsonl\", \"r\", encoding=\"utf-8\") as f:\n",
    "    data = [json.loads(line) for line in f]\n",
    "\n",
    "# 🧠 Lấy câu hỏi từ role \"user\"\n",
    "questions = []\n",
    "for item in data:\n",
    "    for msg in item.get(\"messages\", []):\n",
    "        if msg[\"role\"] == \"user\" and msg.get(\"content\"):\n",
    "            questions.append(msg[\"content\"])\n",
    "\n",
    "# ✨ Trích xuất embedding\n",
    "def get_embedding(text):\n",
    "    input_ids = tokenizer.encode(text, return_tensors=\"pt\", max_length=256, truncation=True)\n",
    "    with torch.no_grad():\n",
    "        output = model(input_ids)[0]\n",
    "        embedding = output.mean(dim=1).squeeze().numpy()\n",
    "    return embedding\n",
    "\n",
    "print(\"🔍 Đang tạo embedding...\")\n",
    "embeddings = [get_embedding(q) for q in tqdm(questions)]\n",
    "\n",
    "# 🔍 Nhóm bằng KMeans\n",
    "k = 10\n",
    "kmeans = KMeans(n_clusters=k, random_state=42)\n",
    "labels = kmeans.fit_predict(embeddings)\n",
    "\n",
    "# 📊 Đếm số câu hỏi theo nhóm\n",
    "counts = Counter(labels)\n",
    "\n",
    "# 🖼️ Vẽ biểu đồ\n",
    "plt.figure(figsize=(10, 5))\n",
    "plt.bar(counts.keys(), counts.values(), color=\"teal\")\n",
    "plt.xlabel(\"Cụm câu hỏi\")\n",
    "plt.ylabel(\"Số lượng\")\n",
    "plt.title(\"📈 Tần suất các cụm câu hỏi theo PhoBERT\")\n",
    "plt.xticks(range(k))\n",
    "plt.grid(axis=\"y\", linestyle=\"--\", alpha=0.5)\n",
    "plt.show()\n",
    "\n",
    "# 🧾 In mẫu câu trong mỗi cụm\n",
    "for cluster_id in range(k):\n",
    "    print(f\"\\n🔹 Cụm {cluster_id} ({counts[cluster_id]} câu hỏi):\")\n",
    "    for idx, label in enumerate(labels):\n",
    "        if label == cluster_id:\n",
    "            print(f\"  - {questions[idx]}\")\n",
    "            if idx > 2: break  # chỉ in 3 câu đầu cụm\n"
   ]
  }
 ],
 "metadata": {
  "language_info": {
   "name": "python"
  }
 },
 "nbformat": 4,
 "nbformat_minor": 2
}
