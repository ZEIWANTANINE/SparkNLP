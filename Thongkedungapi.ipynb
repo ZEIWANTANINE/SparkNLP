{
 "cells": [
  {
   "cell_type": "code",
   "execution_count": null,
   "id": "0d32e05e",
   "metadata": {
    "vscode": {
     "languageId": "plaintext"
    }
   },
   "outputs": [],
   "source": [
    "pip install openai matplotlib pandas seaborn scikit-learn"
   ]
  },
  {
   "cell_type": "code",
   "execution_count": null,
   "id": "20e48bf3",
   "metadata": {
    "vscode": {
     "languageId": "plaintext"
    }
   },
   "outputs": [],
   "source": [
    "import openai\n",
    "import json\n",
    "import pandas as pd\n",
    "import matplotlib.pyplot as plt\n",
    "import seaborn as sns\n",
    "\n",
    "\n",
    "\n",
    "# 📥 Đọc dữ liệu từ file JSONL\n",
    "with open(\"/opt/workspace/gen_1604_formated.jsonl\", \"r\", encoding=\"utf-8\") as f:\n",
    "    data = [json.loads(line) for line in f]\n",
    "\n",
    "# 📌 Trích tất cả câu hỏi từ người dùng\n",
    "questions = [\n",
    "    m[\"content\"].strip()\n",
    "    for item in data\n",
    "    for m in item.get(\"messages\", [])\n",
    "    if m[\"role\"] == \"user\"\n",
    "]\n",
    "\n",
    "# 🧠 Prompt: yêu cầu đếm tần suất các câu hỏi trùng lặp và trả về câu hỏi đại diện\n",
    "prompt = f\"\"\"\n",
    "Bạn là trợ lý phân tích và gom nhóm nội dung câu hỏi người dùng.\n",
    "\n",
    "🎯 Nhiệm vụ:\n",
    "1. Đọc danh sách các câu hỏi dưới đây.\n",
    "2. Gom các câu hỏi có nội dung hoặc mục đích tương tự thành **cùng một nhóm chủ đề** (ví dụ: câu hỏi về sự cố, thiết bị, người dùng, lịch bảo dưỡng, quyền truy cập...).\n",
    "3. Mỗi nhóm cần có:\n",
    "   - Một **tiêu đề chủ đề khái quát** (ngắn gọn, rõ ràng, ví dụ: \"Sự cố\", \"Người dùng\", \"Tài sản\", v.v.).\n",
    "   - Một **câu hỏi đại diện** cụ thể nhất trong nhóm đó (ví dụ tiêu biểu).\n",
    "   - **Số lượng câu hỏi** thuộc nhóm đó (tần suất).\n",
    "4. Sắp xếp kết quả theo **số lượng câu hỏi giảm dần**.\n",
    "5. Trình bày theo bảng văn bản. Mỗi dòng gồm:\n",
    "   `Số lượng | Chủ đề | Câu hỏi đại diện`\n",
    "6. Không tạo JSON, không tạo danh sách chi tiết từng câu, không mô tả thừa, chỉ liệt kê bảng kết quả cuối cùng.\n",
    "\n",
    "Dưới đây là danh sách câu hỏi:\n",
    "{chr(10).join(f\"- {q}\" for q in questions)}\n",
    "\"\"\"\n",
    "\n",
    "# 🔗 Gọi OpenAI API\n",
    "response = openai.ChatCompletion.create(\n",
    "    model=\"gpt-4o-mini\",\n",
    "    temperature=0.2,\n",
    "    messages=[\n",
    "        {\"role\": \"system\", \"content\": \"Bạn là trợ lý chuyên phân tích và thống kê dữ liệu văn bản.\"},\n",
    "        {\"role\": \"user\", \"content\": prompt}\n",
    "    ]\n",
    ")\n",
    "\n",
    "# 📋 In kết quả trả về\n",
    "result_text = response.choices[0].message.content.strip()\n",
    "print(\"\\n📋 TẦN SUẤT CÁC CÂU HỎI TRÙNG LẶP NHIỀU NHẤT:\\n\")\n",
    "print(result_text)\n"
   ]
  }
 ],
 "metadata": {
  "language_info": {
   "name": "python"
  }
 },
 "nbformat": 4,
 "nbformat_minor": 5
}
