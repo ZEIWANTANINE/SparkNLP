{
 "cells": [
  {
   "cell_type": "code",
   "execution_count": null,
   "metadata": {
    "vscode": {
     "languageId": "plaintext"
    }
   },
   "outputs": [],
   "source": [
    "pip install pyspark"
   ]
  },
  {
   "cell_type": "code",
   "execution_count": null,
   "metadata": {
    "vscode": {
     "languageId": "plaintext"
    }
   },
   "outputs": [],
   "source": [
    "import os\n",
    "import shutil\n",
    "from pyspark.sql import SparkSession\n",
    "from pyspark.sql.functions import col, lower, expr, struct\n",
    "\n",
    "# 🔥 Khởi tạo Spark Session\n",
    "spark = SparkSession.builder \\\n",
    "    .appName(\"Filter Conversations\") \\\n",
    "    .config(\"spark.driver.memory\", \"5G\") \\\n",
    "    .config(\"spark.executor.memory\", \"5G\") \\\n",
    "    .getOrCreate()\n",
    "\n",
    "# 📂 Đọc file JSONL vào Spark DataFramea\n",
    "file_path = \"/opt/workspace/data.jsonl\"\n",
    "df = spark.read.json(file_path)\n",
    "\n",
    "# 🛠️ Lọc các hội thoại có chứa assistant trả lời \"can not solve\"\n",
    "df_filtered = df.filter(\n",
    "    expr(\"array_contains(transform(messages, x -> lower(x.content)), 'can not solve')\")\n",
    ")\n",
    "\n",
    "# 🔄 Sắp xếp lại thứ tự các field trong \"messages\"\n",
    "df_reordered = df_filtered.withColumn(\n",
    "    \"messages\", expr(\"transform(messages, x -> named_struct('role', x.role, 'content', x.content))\")\n",
    ")\n",
    "\n",
    "# ✅ Kiểm tra dữ liệu\n",
    "df_reordered.show(truncate=False)\n",
    "\n",
    "# 📝 Lưu vào thư mục tạm với 1 file duy nhất\n",
    "temp_output_path = \"/opt/workspace/temp_output\"\n",
    "df_reordered.coalesce(1).write.mode(\"overwrite\").json(temp_output_path)\n",
    "\n",
    "# 📌 Lấy file JSON được tạo ra trong thư mục tạm\n",
    "json_files = [f for f in os.listdir(temp_output_path) if f.endswith(\".json\")]\n",
    "\n",
    "if json_files:\n",
    "    json_file_path = os.path.join(temp_output_path, json_files[0])  # Lấy file JSON đầu tiên\n",
    "    final_output_path = \"/opt/workspace/cannot_solve_messages.jsonl\"\n",
    "\n",
    "    # 📌 Đổi tên file JSON thành JSONL\n",
    "    shutil.move(json_file_path, final_output_path)\n",
    "\n",
    "    # 🗑️ Xóa thư mục tạm để dọn dẹp\n",
    "    shutil.rmtree(temp_output_path)\n",
    "\n",
    "    print(f\"✅ File đã được lưu tại: {final_output_path}\")\n",
    "else:\n",
    "    print(\"❌ Không tìm thấy file JSON nào trong thư mục tạm!\")\n"
   ]
  }
 ],
 "metadata": {
  "language_info": {
   "name": "python"
  }
 },
 "nbformat": 4,
 "nbformat_minor": 2
}
